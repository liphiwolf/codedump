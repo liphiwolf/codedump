{
 "cells": [
  {
   "cell_type": "code",
   "execution_count": 1,
   "metadata": {
    "_cell_guid": "ab272628-ba6f-425a-9e1f-2583efd3d30c",
    "_uuid": "7ebcfd2b-6684-4fc2-b6a8-3618b8df4414",
    "execution": {
     "iopub.execute_input": "2023-01-09T19:53:58.847839Z",
     "iopub.status.busy": "2023-01-09T19:53:58.847389Z",
     "iopub.status.idle": "2023-01-09T19:53:58.856132Z",
     "shell.execute_reply": "2023-01-09T19:53:58.854517Z",
     "shell.execute_reply.started": "2023-01-09T19:53:58.847805Z"
    },
    "jupyter": {
     "outputs_hidden": false
    }
   },
   "outputs": [],
   "source": [
    "import colorama\n",
    "from colorama import Fore\n",
    "\n",
    "def display_seats(seats):\n",
    "  print('\\n The Seats Are as follows:\\n')\n",
    "  print('         A  B  C      D  E  F')\n",
    "  # Determine the number of rows and columns in the seat chart\n",
    "  rows = len(seats)\n",
    "  cols = len(seats[0])\n",
    "\n",
    "  # Print the seat chart row by row\n",
    "  i = 1\n",
    "  for row in seats:\n",
    "    # Print the left group of seats\n",
    "    if i<10:\n",
    "      print(Fore.BLACK+\"Row\",i,\" |\", end=\" \")\n",
    "    else:\n",
    "        print(Fore.BLACK+\"Row\",i,\"|\", end=\" \")\n",
    "    for seat in row[:cols//2]:\n",
    "      if seat != 'X':\n",
    "          print(Fore.GREEN+ \"*\", end='  ')\n",
    "      else:\n",
    "          print(Fore.RED + seat, end='  ')\n",
    "    # Print the aisle\n",
    "    print(Fore.BLACK+'||', end='  ')\n",
    "    # Print the right group of seats\n",
    "    for seat in row[cols//2:]:\n",
    "      if seat != 'X':\n",
    "          print(Fore.GREEN+\"*\", end='  ')\n",
    "      else:\n",
    "          print(Fore.RED+seat, end='  ')\n",
    "    # Print a newline at the end of each row\n",
    "    i=i+1\n",
    "    print()\n",
    "  print(\"\\n\")\n",
    "  print(Fore.GREEN+\" * : \", Fore.BLACK+ \"Available Seats\")\n",
    "  print(Fore.RED+\" X : \", Fore.BLACK+ \"Occupied Seats\")\n",
    "    \n",
    "# work on the occupied seat\n"
   ]
  },
  {
   "cell_type": "code",
   "execution_count": 2,
   "metadata": {
    "_cell_guid": "76e20b11-1f71-4414-98bc-a06dcf443935",
    "_uuid": "d94e2f41-0b73-4901-b433-4cc55d4ba7dd",
    "execution": {
     "iopub.execute_input": "2023-01-09T19:52:14.870811Z",
     "iopub.status.busy": "2023-01-09T19:52:14.870347Z",
     "iopub.status.idle": "2023-01-09T19:52:14.877042Z",
     "shell.execute_reply": "2023-01-09T19:52:14.875851Z",
     "shell.execute_reply.started": "2023-01-09T19:52:14.870777Z"
    },
    "jupyter": {
     "outputs_hidden": false
    }
   },
   "outputs": [],
   "source": [
    "# Example usage\n",
    "seats = [['A', 'B', 'C', 'D', 'E', 'F'] for i in range(13)]"
   ]
  },
  {
   "cell_type": "code",
   "execution_count": 3,
   "metadata": {
    "_cell_guid": "d416bc7c-ef5b-401d-9649-bbcf7e8182a8",
    "_uuid": "ad0b54e3-8ad9-4e30-8f81-294bc1aa0efd",
    "execution": {
     "iopub.execute_input": "2023-01-09T19:52:16.710416Z",
     "iopub.status.busy": "2023-01-09T19:52:16.709653Z",
     "iopub.status.idle": "2023-01-09T19:52:16.717713Z",
     "shell.execute_reply": "2023-01-09T19:52:16.715943Z",
     "shell.execute_reply.started": "2023-01-09T19:52:16.710370Z"
    },
    "jupyter": {
     "outputs_hidden": false
    }
   },
   "outputs": [
    {
     "name": "stdout",
     "output_type": "stream",
     "text": [
      "\n",
      " The Seats Are as follows:\n",
      "\n",
      "         A  B  C      D  E  F\n",
      "\u001b[30mRow 1  | \u001b[32m*  \u001b[32m*  \u001b[32m*  \u001b[30m||  \u001b[32m*  \u001b[32m*  \u001b[32m*  \n",
      "\u001b[30mRow 2  | \u001b[32m*  \u001b[32m*  \u001b[32m*  \u001b[30m||  \u001b[32m*  \u001b[32m*  \u001b[32m*  \n",
      "\u001b[30mRow 3  | \u001b[32m*  \u001b[32m*  \u001b[32m*  \u001b[30m||  \u001b[32m*  \u001b[32m*  \u001b[32m*  \n",
      "\u001b[30mRow 4  | \u001b[32m*  \u001b[32m*  \u001b[32m*  \u001b[30m||  \u001b[32m*  \u001b[32m*  \u001b[32m*  \n",
      "\u001b[30mRow 5  | \u001b[32m*  \u001b[32m*  \u001b[32m*  \u001b[30m||  \u001b[32m*  \u001b[32m*  \u001b[32m*  \n",
      "\u001b[30mRow 6  | \u001b[32m*  \u001b[32m*  \u001b[32m*  \u001b[30m||  \u001b[32m*  \u001b[32m*  \u001b[32m*  \n",
      "\u001b[30mRow 7  | \u001b[32m*  \u001b[32m*  \u001b[32m*  \u001b[30m||  \u001b[32m*  \u001b[32m*  \u001b[32m*  \n",
      "\u001b[30mRow 8  | \u001b[32m*  \u001b[32m*  \u001b[32m*  \u001b[30m||  \u001b[32m*  \u001b[32m*  \u001b[32m*  \n",
      "\u001b[30mRow 9  | \u001b[32m*  \u001b[32m*  \u001b[32m*  \u001b[30m||  \u001b[32m*  \u001b[32m*  \u001b[32m*  \n",
      "\u001b[30mRow 10 | \u001b[32m*  \u001b[32m*  \u001b[32m*  \u001b[30m||  \u001b[32m*  \u001b[32m*  \u001b[32m*  \n",
      "\u001b[30mRow 11 | \u001b[32m*  \u001b[32m*  \u001b[32m*  \u001b[30m||  \u001b[32m*  \u001b[32m*  \u001b[32m*  \n",
      "\u001b[30mRow 12 | \u001b[32m*  \u001b[32m*  \u001b[32m*  \u001b[30m||  \u001b[32m*  \u001b[32m*  \u001b[32m*  \n",
      "\u001b[30mRow 13 | \u001b[32m*  \u001b[32m*  \u001b[32m*  \u001b[30m||  \u001b[32m*  \u001b[32m*  \u001b[32m*  \n",
      "\n",
      "\n",
      "\u001b[32m * :  \u001b[30mAvailable Seats\n",
      "\u001b[31m X :  \u001b[30mOccupied Seats\n"
     ]
    }
   ],
   "source": [
    "display_seats(seats)"
   ]
  },
  {
   "cell_type": "code",
   "execution_count": 4,
   "metadata": {},
   "outputs": [
    {
     "name": "stdout",
     "output_type": "stream",
     "text": [
      "\n",
      " The Seats Are as follows:\n",
      "\n",
      "         A  B  C      D  E  F\n",
      "\u001b[30mRow 1  | \u001b[32m*  \u001b[32m*  \u001b[32m*  \u001b[30m||  \u001b[32m*  \u001b[32m*  \u001b[32m*  \n",
      "\u001b[30mRow 2  | \u001b[32m*  \u001b[32m*  \u001b[32m*  \u001b[30m||  \u001b[32m*  \u001b[32m*  \u001b[32m*  \n",
      "\u001b[30mRow 3  | \u001b[32m*  \u001b[32m*  \u001b[32m*  \u001b[30m||  \u001b[32m*  \u001b[32m*  \u001b[32m*  \n",
      "\u001b[30mRow 4  | \u001b[32m*  \u001b[32m*  \u001b[32m*  \u001b[30m||  \u001b[32m*  \u001b[32m*  \u001b[32m*  \n",
      "\u001b[30mRow 5  | \u001b[32m*  \u001b[32m*  \u001b[32m*  \u001b[30m||  \u001b[32m*  \u001b[32m*  \u001b[32m*  \n",
      "\u001b[30mRow 6  | \u001b[32m*  \u001b[32m*  \u001b[32m*  \u001b[30m||  \u001b[32m*  \u001b[32m*  \u001b[32m*  \n",
      "\u001b[30mRow 7  | \u001b[32m*  \u001b[32m*  \u001b[32m*  \u001b[30m||  \u001b[32m*  \u001b[32m*  \u001b[32m*  \n",
      "\u001b[30mRow 8  | \u001b[32m*  \u001b[32m*  \u001b[32m*  \u001b[30m||  \u001b[32m*  \u001b[32m*  \u001b[32m*  \n",
      "\u001b[30mRow 9  | \u001b[32m*  \u001b[32m*  \u001b[32m*  \u001b[30m||  \u001b[32m*  \u001b[32m*  \u001b[32m*  \n",
      "\u001b[30mRow 10 | \u001b[32m*  \u001b[32m*  \u001b[32m*  \u001b[30m||  \u001b[32m*  \u001b[32m*  \u001b[32m*  \n",
      "\u001b[30mRow 11 | \u001b[32m*  \u001b[32m*  \u001b[32m*  \u001b[30m||  \u001b[32m*  \u001b[32m*  \u001b[32m*  \n",
      "\u001b[30mRow 12 | \u001b[32m*  \u001b[32m*  \u001b[32m*  \u001b[30m||  \u001b[32m*  \u001b[32m*  \u001b[32m*  \n",
      "\u001b[30mRow 13 | \u001b[32m*  \u001b[32m*  \u001b[32m*  \u001b[30m||  \u001b[32m*  \u001b[32m*  \u001b[32m*  \n",
      "\n",
      "\n",
      "\u001b[32m * :  \u001b[30mAvailable Seats\n",
      "\u001b[31m X :  \u001b[30mOccupied Seats\n",
      "\n",
      "Please Enter Ticket Type [first class (F), business class (B), or economy class(E)] :B\n",
      "Enter the desired seat (1A to 13F) : 13D\n",
      "Do you want to book another seat? [Y or N] :N\n",
      "\n",
      " The Seats Are as follows:\n",
      "\n",
      "         A  B  C      D  E  F\n",
      "\u001b[30mRow 1  | \u001b[32m*  \u001b[32m*  \u001b[32m*  \u001b[30m||  \u001b[32m*  \u001b[32m*  \u001b[32m*  \n",
      "\u001b[30mRow 2  | \u001b[32m*  \u001b[32m*  \u001b[32m*  \u001b[30m||  \u001b[32m*  \u001b[32m*  \u001b[32m*  \n",
      "\u001b[30mRow 3  | \u001b[32m*  \u001b[32m*  \u001b[32m*  \u001b[30m||  \u001b[32m*  \u001b[32m*  \u001b[32m*  \n",
      "\u001b[30mRow 4  | \u001b[32m*  \u001b[32m*  \u001b[32m*  \u001b[30m||  \u001b[32m*  \u001b[32m*  \u001b[32m*  \n",
      "\u001b[30mRow 5  | \u001b[32m*  \u001b[32m*  \u001b[32m*  \u001b[30m||  \u001b[32m*  \u001b[32m*  \u001b[32m*  \n",
      "\u001b[30mRow 6  | \u001b[32m*  \u001b[32m*  \u001b[32m*  \u001b[30m||  \u001b[32m*  \u001b[32m*  \u001b[32m*  \n",
      "\u001b[30mRow 7  | \u001b[32m*  \u001b[32m*  \u001b[32m*  \u001b[30m||  \u001b[32m*  \u001b[32m*  \u001b[32m*  \n",
      "\u001b[30mRow 8  | \u001b[32m*  \u001b[32m*  \u001b[32m*  \u001b[30m||  \u001b[32m*  \u001b[32m*  \u001b[32m*  \n",
      "\u001b[30mRow 9  | \u001b[32m*  \u001b[32m*  \u001b[32m*  \u001b[30m||  \u001b[32m*  \u001b[32m*  \u001b[32m*  \n",
      "\u001b[30mRow 10 | \u001b[32m*  \u001b[32m*  \u001b[32m*  \u001b[30m||  \u001b[32m*  \u001b[32m*  \u001b[32m*  \n",
      "\u001b[30mRow 11 | \u001b[32m*  \u001b[32m*  \u001b[32m*  \u001b[30m||  \u001b[32m*  \u001b[32m*  \u001b[32m*  \n",
      "\u001b[30mRow 12 | \u001b[32m*  \u001b[32m*  \u001b[32m*  \u001b[30m||  \u001b[32m*  \u001b[32m*  \u001b[32m*  \n",
      "\u001b[30mRow 13 | \u001b[32m*  \u001b[32m*  \u001b[32m*  \u001b[30m||  \u001b[31mX  \u001b[32m*  \u001b[32m*  \n",
      "\n",
      "\n",
      "\u001b[32m * :  \u001b[30mAvailable Seats\n",
      "\u001b[31m X :  \u001b[30mOccupied Seats\n"
     ]
    }
   ],
   "source": [
    "#Initialise the seats with *\n",
    "\n",
    "display_seats(seats)\n",
    "while True:\n",
    "    ticket_type=input('\\nPlease Enter Ticket Type [first class (F), business class (B), or economy class(E)] :')\n",
    "    \n",
    "    #check for validity\n",
    "    if ticket_type.upper() not in 'FBE':\n",
    "        print('You have entered a wrong ticket type.')\n",
    "        print('Please Enter Again..!!')\n",
    "        continue\n",
    "    \n",
    "    desired_seat=input('Enter the desired seat (1A to 13F) : ')\n",
    "    #check for valid input of seat number\n",
    "    row=int(desired_seat[:-1])\n",
    "    col=desired_seat[-1]\n",
    "    if ( col not in 'ABCDEF' ) or ( row >13 ):\n",
    "        print('Invalid Seat. Please try again')\n",
    "        continue\n",
    "    \n",
    "    \n",
    "    #IF it comes here, it's a valid seat.\n",
    "    #Mark the seat with 'X'\n",
    "    col_num=ord(col)-ord('A')\n",
    "    if seats[row-1][col_num]!='X':\n",
    "        seats[row-1][col_num]='X'\n",
    "    else:\n",
    "        print('The Seat has already booked. Please choose another one')\n",
    "        continue\n",
    "    \n",
    "    another_seat=input('Do you want to book another seat? [Y or N] :')\n",
    "    if another_seat!='Y':\n",
    "        break\n",
    "\n",
    "display_seats(seats)\n",
    "#print('\\nThe Seats Are as follows\\n')\n",
    "#\n",
    "#print('       A  B  C  D  E  F  ')\n",
    "#for i in range(13):\n",
    "#    if i>=9:\n",
    "#        print('Row',i+1,end=' ')\n",
    "#    else:\n",
    "#        print('Row',i+1,end='  ')\n",
    "#    for j in range(6):\n",
    "#        print(seats[i][j],end='  ')\n",
    "#    print()"
   ]
  },
  {
   "cell_type": "code",
   "execution_count": null,
   "metadata": {},
   "outputs": [],
   "source": []
  }
 ],
 "metadata": {
  "kernelspec": {
   "display_name": "Python 3 (ipykernel)",
   "language": "python",
   "name": "python3"
  },
  "language_info": {
   "codemirror_mode": {
    "name": "ipython",
    "version": 3
   },
   "file_extension": ".py",
   "mimetype": "text/x-python",
   "name": "python",
   "nbconvert_exporter": "python",
   "pygments_lexer": "ipython3",
   "version": "3.9.7"
  }
 },
 "nbformat": 4,
 "nbformat_minor": 4
}
